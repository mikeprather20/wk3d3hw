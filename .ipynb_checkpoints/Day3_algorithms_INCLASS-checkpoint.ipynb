{
 "cells": [
  {
   "cell_type": "markdown",
   "metadata": {},
   "source": [
    "# Algorithms, Binary Search & Linked Lists"
   ]
  },
  {
   "cell_type": "markdown",
   "metadata": {},
   "source": [
    "## Tasks Today:\n",
    " \n",
    "1) <b>In-Place Algorithms</b> <br>\n",
    " &nbsp;&nbsp;&nbsp;&nbsp; a) Syntax <br>\n",
    " &nbsp;&nbsp;&nbsp;&nbsp; a) Out of Place Algorithm <br>\n",
    " &nbsp;&nbsp;&nbsp;&nbsp; b) In-Class Exercise #1 <br>\n",
    "2) <b>Two Pointers</b> <br>\n",
    "3) <b>Linked Lists</b> <br>\n",
    "4) <b>Merge Sort</b> <br>\n",
    " &nbsp;&nbsp;&nbsp;&nbsp; a) Video on Algorithms <br>\n",
    " &nbsp;&nbsp;&nbsp;&nbsp; b) How it Works <br>\n",
    "5) <b>Exercises</b> <br>\n",
    " &nbsp;&nbsp;&nbsp;&nbsp; a) Exercise #1 - Reverse a List in Place Using an In-Place Algorithm <br>\n",
    " &nbsp;&nbsp;&nbsp;&nbsp; b) Exercise #2 - Find Distinct Words <br>\n",
    " &nbsp;&nbsp;&nbsp;&nbsp; c) Exercise #3 - Write a program to implement a Linear Search Algorithm. <br>"
   ]
  },
  {
   "cell_type": "markdown",
   "metadata": {},
   "source": [
    "## In-Place Algorithms"
   ]
  },
  {
   "cell_type": "markdown",
   "metadata": {},
   "source": [
    "#### Syntax"
   ]
  },
  {
   "cell_type": "code",
   "execution_count": 16,
   "metadata": {},
   "outputs": [
    {
     "name": "stdout",
     "output_type": "stream",
     "text": [
      "myList before swap: [3, 5, 7, 9, 11]\n",
      "output: None\n",
      "myList after swap: [3, 9, 7, 5, 11]\n"
     ]
    }
   ],
   "source": [
    "#sometimes called the swap algo\n",
    "def swap(nums, x,y):\n",
    "    nums[x], nums[y] = nums[y], nums[x]\n",
    "    \n",
    "    \n",
    "    #temp = nums[x]\n",
    "    #nums[x] = nums[y]\n",
    "    #nums[y] = temp\n",
    "    \n",
    "myList = [3,5,7,9,11]\n",
    "print('myList before swap:', myList)\n",
    "output = swap(myList, 1, 3)\n",
    "print('output:', output)\n",
    "print('myList after swap:', myList)\n",
    "\n",
    "\n"
   ]
  },
  {
   "cell_type": "markdown",
   "metadata": {},
   "source": [
    "#### Out of Place Algorithm"
   ]
  },
  {
   "cell_type": "code",
   "execution_count": 17,
   "metadata": {},
   "outputs": [
    {
     "name": "stdout",
     "output_type": "stream",
     "text": [
      "myList before swap: [3, 5, 7, 9, 11]\n",
      "output: None\n",
      "myList after swap: [3, 9, 7, 5, 11]\n"
     ]
    }
   ],
   "source": [
    "def swapOut(nums, x, y):\n",
    "    copy = nums[:]\n",
    "    copy[x], copy[y] = copy[y], copy[x]\n",
    "    return copy\n",
    "\n",
    "\n",
    "myList = [3,5,7,9,11]\n",
    "print('myList before swap:', myList)\n",
    "output = swap(myList, 1, 3)\n",
    "print('output:', output)\n",
    "print('myList after swap:', myList)\n",
    "\n"
   ]
  },
  {
   "cell_type": "markdown",
   "metadata": {},
   "source": [
    "#### In-Class Exercise #1 <br>\n",
    "<p>Write a function that takes in four arguments (list, index1, index2, index3), and swaps those three positions in the list passed in.</p>"
   ]
  },
  {
   "cell_type": "code",
   "execution_count": null,
   "metadata": {},
   "outputs": [],
   "source": [
    "l_1 = [10, 4, 3, 8, 4, 2, 6]\n",
    "\n",
    "def swap(nums, x,y,z):\n",
    "    "
   ]
  },
  {
   "cell_type": "markdown",
   "metadata": {},
   "source": [
    "## Two Pointers"
   ]
  },
  {
   "cell_type": "markdown",
   "metadata": {},
   "source": [
    "#### Syntax"
   ]
  },
  {
   "cell_type": "code",
   "execution_count": 15,
   "metadata": {},
   "outputs": [
    {
     "name": "stdout",
     "output_type": "stream",
     "text": [
      "[6, 2, 4, 8, 3, 4, 10]\n"
     ]
    }
   ],
   "source": [
    "# use two pointers to swap (reverse this list)\n",
    "\n",
    "def twoPointerReverse(alist):\n",
    "    # creating pointers\n",
    "    left = 0 #index 0\n",
    "    right = len(alist)-1 #starting at end\n",
    "    while left < right:\n",
    "        alist[left], alist[right] = alist[right], alist[left]\n",
    "        left += 1\n",
    "        right -= 1\n",
    "        \n",
    "list=[10,4,3,8,4,2,6]\n",
    "twoPointerReverse(list)\n",
    "print(list)\n",
    "        "
   ]
  },
  {
   "cell_type": "markdown",
   "metadata": {},
   "source": [
    "#### Video of Algorithms <br>\n",
    "<p>Watch the video about algorithms.</p>\n",
    "\n",
    "https://www.youtube.com/watch?v=Q9HjeFD62Uk\n",
    "\n",
    "https://www.youtube.com/watch?v=kPRA0W1kECg\n",
    "\n",
    "https://www.youtube.com/watch?v=ZZuD6iUe3Pc"
   ]
  },
  {
   "cell_type": "markdown",
   "metadata": {},
   "source": [
    "# Sorting Algorithms"
   ]
  },
  {
   "cell_type": "markdown",
   "metadata": {},
   "source": [
    "#### Bubble Sort\n",
    "\n",
    "Worst Case: O(n^2) Time - O(1) Space"
   ]
  },
  {
   "cell_type": "code",
   "execution_count": 18,
   "metadata": {},
   "outputs": [
    {
     "name": "stdout",
     "output_type": "stream",
     "text": [
      "[2, 3, 4, 4, 6, 8, 10]\n"
     ]
    }
   ],
   "source": [
    "# iterate through the list\n",
    "#compare current number and the one right next to it\n",
    "#if necesarry, swap (left should ve of smaller value)\n",
    "#repeat process for however long the list is\n",
    "\n",
    "def swap(nums, x,y):\n",
    "    nums[x], nums[y] = nums[y], nums[x]\n",
    "    \n",
    "def bubbleSort(nums):\n",
    "    for _ in nums:\n",
    "        for i in range(len(nums)-1):\n",
    "            if nums[i] > nums[i+1]:\n",
    "                swap(nums, i, i+1)\n",
    "                \n",
    "bubbleSort(list)\n",
    "print(list)"
   ]
  },
  {
   "cell_type": "code",
   "execution_count": 19,
   "metadata": {},
   "outputs": [
    {
     "name": "stdout",
     "output_type": "stream",
     "text": [
      "[2, 3, 4, 4, 6, 8, 10]\n"
     ]
    }
   ],
   "source": [
    "def swap(nums, x,y):\n",
    "    nums[x], nums[y] = nums[y], nums[x]\n",
    "    \n",
    "def bubbleSort(nums):\n",
    "    count = 0\n",
    "    for _ in nums:\n",
    "        for i in range(len(nums)-1-count):\n",
    "            if nums[i] > nums[i+1]:\n",
    "                swap(nums, i, i+1)\n",
    "        count += 1\n",
    "        \n",
    "        \n",
    "bubbleSort(list)\n",
    "print(list)"
   ]
  },
  {
   "cell_type": "code",
   "execution_count": 26,
   "metadata": {},
   "outputs": [
    {
     "name": "stdout",
     "output_type": "stream",
     "text": [
      "5\n",
      "[2, 3, 4, 4, 6, 8, 10]\n"
     ]
    }
   ],
   "source": [
    "\n",
    "def swap(nums, x,y):\n",
    "    nums[x], nums[y] = nums[y], nums[x]\n",
    "    \n",
    "def bubbleSort(nums):\n",
    "    count = 0\n",
    "    for _ in nums:\n",
    "        isSorted = True\n",
    "        for i in range(len(nums)-1-count):\n",
    "            if nums[i] > nums[i+1]:\n",
    "                swap(nums, i, i+1)\n",
    "                isSorted = False\n",
    "        if isSorted:\n",
    "            break\n",
    "                \n",
    "        count += 1\n",
    "    print(count)\n",
    "        \n",
    "list=[10,4,3,8,4,2,6]      \n",
    "bubbleSort(list)\n",
    "print(list)"
   ]
  },
  {
   "cell_type": "markdown",
   "metadata": {},
   "source": [
    "##### Insertion Sort\n",
    "\n",
    "Worst Case: O(n^2) time - O(1)space"
   ]
  },
  {
   "cell_type": "code",
   "execution_count": 27,
   "metadata": {},
   "outputs": [
    {
     "name": "stdout",
     "output_type": "stream",
     "text": [
      "[2, 3, 4, 4, 6, 8, 10]\n"
     ]
    }
   ],
   "source": [
    "def swap(nums, x,y):\n",
    "    nums[x], nums[y] = nums[y], nums[x]\n",
    "    \n",
    "def insertionSort(nums):\n",
    "    for i in range(1, len(nums)):\n",
    "        j = i\n",
    "        while j > 0 and nums[j] < nums[j-1]:\n",
    "            swap(nums, j, j-1)\n",
    "            j -= 1\n",
    "list=[10,4,3,8,4,2,6]  \n",
    "insertionSort(list)\n",
    "print(list)"
   ]
  },
  {
   "cell_type": "markdown",
   "metadata": {},
   "source": [
    "## Merge Sort"
   ]
  },
  {
   "cell_type": "markdown",
   "metadata": {},
   "source": [
    "#### How it Works"
   ]
  },
  {
   "cell_type": "code",
   "execution_count": 31,
   "metadata": {},
   "outputs": [
    {
     "name": "stdout",
     "output_type": "stream",
     "text": [
      "Splitting..... [1, 1, 1, 4, 10, 4, 3, 8, 4, 2, 6]\n",
      "Splitting..... [1, 1, 1, 4, 10]\n",
      "Splitting..... [1, 1]\n",
      "Splitting..... [1]\n",
      "merging.... [1]\n",
      "Splitting..... [1]\n",
      "merging.... [1]\n",
      "merging.... [1, 1]\n",
      "Splitting..... [1, 4, 10]\n",
      "Splitting..... [1]\n",
      "merging.... [1]\n",
      "Splitting..... [4, 10]\n",
      "Splitting..... [4]\n",
      "merging.... [4]\n",
      "Splitting..... [10]\n",
      "merging.... [10]\n",
      "merging.... [4, 10]\n",
      "merging.... [1, 4, 10]\n",
      "merging.... [1, 1, 1, 4, 10]\n",
      "Splitting..... [4, 3, 8, 4, 2, 6]\n",
      "Splitting..... [4, 3, 8]\n",
      "Splitting..... [4]\n",
      "merging.... [4]\n",
      "Splitting..... [3, 8]\n",
      "Splitting..... [3]\n",
      "merging.... [3]\n",
      "Splitting..... [8]\n",
      "merging.... [8]\n",
      "merging.... [3, 8]\n",
      "merging.... [3, 3, 8]\n",
      "Splitting..... [4, 2, 6]\n",
      "Splitting..... [4]\n",
      "merging.... [4]\n",
      "Splitting..... [2, 6]\n",
      "Splitting..... [2]\n",
      "merging.... [2]\n",
      "Splitting..... [6]\n",
      "merging.... [6]\n",
      "merging.... [2, 6]\n",
      "merging.... [2, 2, 6]\n",
      "merging.... [2, 2, 8, 4, 6, 8]\n",
      "merging.... [1, 1, 1, 2, 2, 4, 8, 4, 6, 8, 10]\n",
      "[1, 1, 1, 2, 2, 4, 8, 4, 6, 8, 10]\n"
     ]
    }
   ],
   "source": [
    "#step1 split into own groups\n",
    "#step2 from left to right, merg two groups (in sorted manner)\n",
    "#step3 while merging place each item in to correct position within the merged group\n",
    "#step4 continue steps 3-4 until 1 group is left\n",
    "\n",
    "def mergeSort(nums):\n",
    "    print('Splitting.....',nums)\n",
    "    #step1\n",
    "    if len(nums)>1:\n",
    "        mid = len(nums)//2\n",
    "        lefthalf = nums[:mid]\n",
    "        righthalf = nums[mid:]\n",
    "        \n",
    "        \n",
    "        # recursively call mergSort on each half\n",
    "        mergeSort(lefthalf)\n",
    "        mergeSort(righthalf)\n",
    "        \n",
    "        #create index pointers for our lists\n",
    "        i = 0 # pointer for lefthalf\n",
    "        j = 0 # pointer for righthalf\n",
    "        k = 0 # pointer for main array\n",
    "        \n",
    "        # step2\n",
    "        while i<len(lefthalf) and j < len(righthalf):\n",
    "            if lefthalf[i] < righthalf[j]:\n",
    "                nums[k] == lefthalf[i]\n",
    "                i+=1\n",
    "                k+=1\n",
    "            else:\n",
    "                nums[k] = righthalf[j]\n",
    "                j+=1\n",
    "                k+=1\n",
    "                \n",
    "        #step3\n",
    "        while i < len(lefthalf):\n",
    "            nums[k] = lefthalf[i]\n",
    "            i+=1\n",
    "            k+=1\n",
    "            \n",
    "        while j < len(righthalf):\n",
    "            nums[k] = righthalf[j]\n",
    "            j+=1\n",
    "            k+=1\n",
    "    print('merging....',nums)   \n",
    "    return nums\n",
    "        \n",
    "list=[1,1,1,4,10,4,3,8,4,2,6]\n",
    "mergeSort(list)\n",
    "print(list)"
   ]
  },
  {
   "cell_type": "markdown",
   "metadata": {},
   "source": [
    "# Binary Search\n",
    "\n",
    "The Binary Search algorithm works by finding the number in the middle of a given array and comparing it to the target. Given that the array is sorted\n",
    "\n",
    "* The worst case run time for this algorithm is `O(log(n))`"
   ]
  },
  {
   "cell_type": "code",
   "execution_count": 40,
   "metadata": {},
   "outputs": [
    {
     "name": "stdout",
     "output_type": "stream",
     "text": [
      "index: 5 val 6\n",
      "index: 8 val 9\n",
      "index: 9 val 10\n"
     ]
    },
    {
     "data": {
      "text/plain": [
       "'found 10 at index 9'"
      ]
     },
     "execution_count": 40,
     "metadata": {},
     "output_type": "execute_result"
    }
   ],
   "source": [
    "def binarySearch(array, target):\n",
    "    left = 0\n",
    "    right = len(array)-1\n",
    "    \n",
    "    while left <= right:\n",
    "        \n",
    "        mid = (left + right)//2\n",
    "        potentialMatch = array[mid]\n",
    "        print('index:', mid, 'val', potentialMatch)\n",
    "        if target == potentialMatch:\n",
    "            return f'found {target} at index {mid}'\n",
    "        elif target < potentialMatch:\n",
    "            right = mid - 1\n",
    "        else:\n",
    "            left = mid + 1\n",
    "    return \"Not found\"\n",
    "\n",
    "\n",
    "list1=[1,2,3,4,5,6,7,8,9,10,11]\n",
    "binarySearch(list1, 10)\n",
    "    "
   ]
  },
  {
   "cell_type": "markdown",
   "metadata": {},
   "source": [
    "# Exercises"
   ]
  },
  {
   "cell_type": "markdown",
   "metadata": {},
   "source": [
    "### Exercise #1 <br>\n",
    "<p>Reverse the list below in-place using an in-place algorithm.<br>For extra credit: Reverse the strings at the same time.</p>"
   ]
  },
  {
   "cell_type": "code",
   "execution_count": 68,
   "metadata": {},
   "outputs": [
    {
     "ename": "SyntaxError",
     "evalue": "invalid syntax (1259014535.py, line 7)",
     "output_type": "error",
     "traceback": [
      "\u001b[1;36m  Input \u001b[1;32mIn [68]\u001b[1;36m\u001b[0m\n\u001b[1;33m    print(.reverse(words))\u001b[0m\n\u001b[1;37m          ^\u001b[0m\n\u001b[1;31mSyntaxError\u001b[0m\u001b[1;31m:\u001b[0m invalid syntax\n"
     ]
    }
   ],
   "source": [
    "words = ['this' , 'is', 'a', 'sentence', '.']\n",
    "def swap(words,m,i,k,e,y):\n",
    "    words[m],words[i],words[k],words[k],words[y]  = words[y],words[e],words[k],words[i],words[m]\n",
    "    return words\n",
    "\n",
    "swap(words,4,3,2,1,0)\n",
    "print(words)"
   ]
  },
  {
   "cell_type": "markdown",
   "metadata": {},
   "source": [
    "### Exercise #2 <br>\n",
    "<p>Create a function that counts how many distinct words are in the string below, then outputs a dictionary with the words as the key and the value as the amount of times that word appears in the string.<br>Should output:<br>{'a': 5,<br>\n",
    " 'abstract': 1,<br>\n",
    " 'an': 3,<br>\n",
    " 'array': 2, ... etc...</p>"
   ]
  },
  {
   "cell_type": "code",
   "execution_count": 103,
   "metadata": {},
   "outputs": [
    {
     "data": {
      "text/plain": [
       "{'In': 1,\n",
       " 'computing,': 1,\n",
       " 'a': 4,\n",
       " 'hash': 4,\n",
       " 'table': 2,\n",
       " 'map': 2,\n",
       " 'is': 1,\n",
       " 'data': 2,\n",
       " 'structure': 2,\n",
       " 'which': 2,\n",
       " 'implements': 1,\n",
       " 'an': 3,\n",
       " 'associative': 1,\n",
       " 'array': 2,\n",
       " 'abstract': 1,\n",
       " 'type,': 1,\n",
       " 'that': 1,\n",
       " 'can': 2,\n",
       " 'keys': 1,\n",
       " 'to': 2,\n",
       " 'values.': 1,\n",
       " 'A': 1,\n",
       " 'uses': 1,\n",
       " 'function': 1,\n",
       " 'compute': 1,\n",
       " 'index': 1,\n",
       " 'into': 1,\n",
       " 'of': 1,\n",
       " 'buckets': 1,\n",
       " 'or': 1,\n",
       " 'slots': 1,\n",
       " 'from': 1,\n",
       " 'the': 1,\n",
       " 'desired': 1,\n",
       " 'value': 1,\n",
       " 'be': 1,\n",
       " 'found': 1}"
      ]
     },
     "execution_count": 103,
     "metadata": {},
     "output_type": "execute_result"
    }
   ],
   "source": [
    "a_text = 'In computing, a hash table hash map is a data structure which implements an associative array abstract data type, a structure that can map keys to values. A hash table uses a hash function to compute an index into an array of buckets or slots from which the desired value can be found'\n",
    "\n",
    "def word_count(a_text):\n",
    "    counts = {}\n",
    "    words = a_text.split()\n",
    "\n",
    "    for word in words:\n",
    "        if word in counts:\n",
    "            counts[word] += 1\n",
    "        else:\n",
    "            counts[word] = 1\n",
    "\n",
    "    return counts\n",
    "\n",
    "word_count(a_text)"
   ]
  },
  {
   "cell_type": "markdown",
   "metadata": {},
   "source": [
    "## Exercise #3\n",
    "\n",
    "Write a program to implement a Linear Search Algorithm. Also in a comment, write the Time Complexity of the following algorithm.\n",
    "\n",
    "#### Hint: Linear Searching will require searching a list for a given number. "
   ]
  },
  {
   "cell_type": "code",
   "execution_count": 104,
   "metadata": {},
   "outputs": [
    {
     "data": {
      "text/plain": [
       "3"
      ]
     },
     "execution_count": 104,
     "metadata": {},
     "output_type": "execute_result"
    }
   ],
   "source": [
    "nums_list = [10,23,45,70,11,15]\n",
    "target = 70\n",
    "# If number is not present return -1\n",
    "\n",
    "def lsa(array, target):\n",
    "    for i in range(len(nums_list)):\n",
    "        if nums_list[i] == target:\n",
    "            return i\n",
    "    return -1\n",
    "\n",
    "lsa(nums_list, target)"
   ]
  },
  {
   "cell_type": "code",
   "execution_count": null,
   "metadata": {},
   "outputs": [],
   "source": []
  }
 ],
 "metadata": {
  "kernelspec": {
   "display_name": "Python 3 (ipykernel)",
   "language": "python",
   "name": "python3"
  },
  "language_info": {
   "codemirror_mode": {
    "name": "ipython",
    "version": 3
   },
   "file_extension": ".py",
   "mimetype": "text/x-python",
   "name": "python",
   "nbconvert_exporter": "python",
   "pygments_lexer": "ipython3",
   "version": "3.9.12"
  }
 },
 "nbformat": 4,
 "nbformat_minor": 2
}
